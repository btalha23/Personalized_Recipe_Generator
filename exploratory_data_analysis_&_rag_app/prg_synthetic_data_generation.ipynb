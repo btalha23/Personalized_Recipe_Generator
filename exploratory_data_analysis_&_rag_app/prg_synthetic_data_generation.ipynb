{
 "cells": [
  {
   "cell_type": "code",
   "execution_count": null,
   "metadata": {},
   "outputs": [],
   "source": [
    "# Ingredients to be used in 10 recipes\n",
    "\n",
    "# [\"bacon\", \"eggs\", \"buns\", \"tomatoes\", \"mayonnaise\"]\n",
    "# [\"bay scallops\", \"butter\", \"onions\", \"parsley\", \"lemons\", \"bread crumbs\"]\n",
    "# [\"rice\", \"chicken\", \"cream of mushroom soup\", \"cream of chicken soup\", \"onion soup\", \"water\"]\n",
    "# [\"coriander\", \"allspice\", \"cumin\", \"ground ginger\", \"turmeric\", \"cinnamon\", \"cayenne\", \"pepper\", \"salt\", \"lemon juice\", \"olive oil\", \"garlic\", \"chicken\", \"pita\", \"red onion\", \"parsley\", \"shredded red cabbage\", \"tahini\"]\n",
    "# [\"sour cream\", \"heavy cream\", \"baking powder\", \"kosher salt\", \"sugar\", \"ground black pepper\", \"flour\", \"butter\", \"salt\", \"cutter\"]\n",
    "# [\"hamburger\", \"egg\", \"bread crumbs\", \"onion\", \"milk\", \"salt\", \"pepper\", \"bacon\", \"catsup\"]\n",
    "# [\"stew meat\", \"cabbage\", \"onion\", \"green bell peppers\", \"oil\", \"tomatoes\", \"garlic\", \"soy sauce\"]\n",
    "# [\"chicken broth\", \"water\", \"chicken\", \"onion\", \"vegetables\", \"garlic\", \"salt\", \"fresh cilantro\", \"potatoes\", \"vegetable oil\"]\n",
    "# [\"pork sparerib\", \"black bean sauce\", \"Chinese rice wine\", \"cornstarch\", \"ginger\", \"garlic\", \"ground black pepper\", \"cooking oil\", \"sesame oil\", \"sugar\", \"red chili pepper\"]\n",
    "# [\"shell pasta\", \"red pepper\", \"green onion\", \"seafood\", \"peas\", \"olive oil\", \"sesame oil\", \"rice vinegar\", \"lemon\", \"mayonnaise\"]"
   ]
  },
  {
   "cell_type": "code",
   "execution_count": null,
   "metadata": {},
   "outputs": [],
   "source": [
    "from langchain.prompts import FewShotPromptTemplate, PromptTemplate\n",
    "from langchain_experimental.tabular_synthetic_data.openai import (\n",
    "    OPENAI_TEMPLATE,\n",
    "    create_openai_data_generator,\n",
    ")\n",
    "from langchain_experimental.tabular_synthetic_data.prompts import (\n",
    "    SYNTHETIC_FEW_SHOT_PREFIX,\n",
    "    SYNTHETIC_FEW_SHOT_SUFFIX,\n",
    ")\n",
    "from langchain_openai import ChatOpenAI\n",
    "from pydantic import BaseModel"
   ]
  },
  {
   "cell_type": "code",
   "execution_count": null,
   "metadata": {},
   "outputs": [],
   "source": [
    "class WorldClassChef(BaseModel):\n",
    "    recipe_name: str\n",
    "    ingredients_names: list\n",
    "    ingredients_with_quantities: list\n",
    "    recipe_steps: str\n"
   ]
  },
  {
   "cell_type": "code",
   "execution_count": null,
   "metadata": {},
   "outputs": [],
   "source": [
    "examples = [\n",
    "    {\n",
    "        \"example\": \"\"\"Recipe Name: Basil, Bacon, Tomato Egg Sandwich with Jalapeno Mayo,\n",
    "                      Ingredients Names: [\"basil\", \"bacon\", \"eggs\", \"buns\", \"tomatoes\", \"mayonnaise\", \"jalapeno pepper\", \"butter\"], \n",
    "                      Ingredients with Quantities: [\"6 fresh eggs\",\n",
    "                                                    \"6 petit soft buns\",\n",
    "                                                    \"2 tablespoons of softened butter\",\n",
    "                                                    \"1 medium sized juicy ripe tomato, sliced thin\",\n",
    "                                                    \"6 slices of your favorite bacon\",\n",
    "                                                    \"12 large basil leaves\",\n",
    "                                                    \"1 small jalapeno pepper\",\n",
    "                                                    \"4 tablespoons mayo\",\n",
    "                                                    \"sea salt\",\n",
    "                                                    ], \n",
    "                      Recipe Steps: Preheat oven to 425°. Line a cookie sheet with foil and then place bacon on sheet and cook for \n",
    "                                    approximately 10 minutes or until brown and crispy. Drain on a paper towel. While bacon is a cooking, \n",
    "                                    slice and butter buns, pulse jalapeno pepper and mayo in a food processor and warm up skillets with \n",
    "                                    a little butter. When bacon is finished, crack eggs into pan and cook until soft yolk, sprinkle with \n",
    "                                    sea salt. Warm buns in oven and toast slightly until browned but still soft. Assemble sandwiches and enjoy! \"\"\"\n",
    "    },\n",
    "    {\n",
    "        \"example\": \"\"\"Recipe Name: Basil, Bacon, Tomato Egg Sandwich with Jalapeno Mayo,\n",
    "                      Ingredients Names: [\"basil\", \"bacon\", \"eggs\", \"buns\", \"tomatoes\", \"mayonnaise\", \"jalapeno pepper\", \"butter\"], \n",
    "                      Ingredients with Quantities: [\"6 fresh eggs\",\n",
    "                                                    \"6 petit soft buns\",\n",
    "                                                    \"2 tablespoons of softened butter\",\n",
    "                                                    \"1 medium sized juicy ripe tomato, sliced thin\",\n",
    "                                                    \"6 slices of your favorite bacon\",\n",
    "                                                    \"12 large basil leaves\",\n",
    "                                                    \"1 small jalapeno pepper\",\n",
    "                                                    \"4 tablespoons mayo\",\n",
    "                                                    \"sea salt\",\n",
    "                                                    ], \n",
    "                      Recipe Steps: Preheat oven to 425°. Line a cookie sheet with foil and then place bacon on sheet and cook for \n",
    "                                    approximately 10 minutes or until brown and crispy. Drain on a paper towel. While bacon is a cooking, \n",
    "                                    slice and butter buns, pulse jalapeno pepper and mayo in a food processor and warm up skillets with \n",
    "                                    a little butter. When bacon is finished, crack eggs into pan and cook until soft yolk, sprinkle with \n",
    "                                    sea salt. Warm buns in oven and toast slightly until browned but still soft. Assemble sandwiches and enjoy! \"\"\"\n",
    "    },\n",
    "    {\n",
    "        \"example\": \"\"\"Recipe Name: Basil, Bacon, Tomato Egg Sandwich with Jalapeno Mayo,\n",
    "                      Ingredients Names: [\"basil\", \"bacon\", \"eggs\", \"buns\", \"tomatoes\", \"mayonnaise\", \"jalapeno pepper\", \"butter\"], \n",
    "                      Ingredients with Quantities: [\"6 fresh eggs\",\n",
    "                                                    \"6 petit soft buns\",\n",
    "                                                    \"2 tablespoons of softened butter\",\n",
    "                                                    \"1 medium sized juicy ripe tomato, sliced thin\",\n",
    "                                                    \"6 slices of your favorite bacon\",\n",
    "                                                    \"12 large basil leaves\",\n",
    "                                                    \"1 small jalapeno pepper\",\n",
    "                                                    \"4 tablespoons mayo\",\n",
    "                                                    \"sea salt\",\n",
    "                                                    ], \n",
    "                      Recipe Steps: Preheat oven to 425°. Line a cookie sheet with foil and then place bacon on sheet and cook for \n",
    "                                    approximately 10 minutes or until brown and crispy. Drain on a paper towel. While bacon is a cooking, \n",
    "                                    slice and butter buns, pulse jalapeno pepper and mayo in a food processor and warm up skillets with \n",
    "                                    a little butter. When bacon is finished, crack eggs into pan and cook until soft yolk, sprinkle with \n",
    "                                    sea salt. Warm buns in oven and toast slightly until browned but still soft. Assemble sandwiches and enjoy! \"\"\"\n",
    "    },\n",
    "]"
   ]
  }
 ],
 "metadata": {
  "kernelspec": {
   "display_name": "MLOps_LLM_Zoomcamp",
   "language": "python",
   "name": "python3"
  },
  "language_info": {
   "name": "python",
   "version": "3.11.9"
  }
 },
 "nbformat": 4,
 "nbformat_minor": 2
}
