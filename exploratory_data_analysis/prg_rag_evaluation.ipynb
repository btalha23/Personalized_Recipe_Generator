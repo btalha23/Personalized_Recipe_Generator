{
 "cells": [
  {
   "cell_type": "code",
   "execution_count": null,
   "metadata": {},
   "outputs": [],
   "source": [
    "# Ingredients to be used in 10 recipes\n",
    "\n",
    "# [\"bacon\", \"eggs\", \"buns\", \"tomatoes\", \"mayonnaise\"]\n",
    "# [\"bay scallops\", \"butter\", \"onions\", \"parsley\", \"lemons\", \"bread crumbs\"]\n",
    "# [\"rice\", \"chicken\", \"cream of mushroom soup\", \"cream of chicken soup\", \"onion soup\", \"water\"]\n",
    "# [\"coriander\", \"allspice\", \"cumin\", \"ground ginger\", \"turmeric\", \"cinnamon\", \"cayenne\", \"pepper\", \"salt\", \"lemon juice\", \"olive oil\", \"garlic\", \"chicken\", \"pita\", \"red onion\", \"parsley\", \"shredded red cabbage\", \"tahini\"]\n",
    "# [\"sour cream\", \"heavy cream\", \"baking powder\", \"kosher salt\", \"sugar\", \"ground black pepper\", \"flour\", \"butter\", \"salt\", \"cutter\"]\n",
    "# [\"hamburger\", \"egg\", \"bread crumbs\", \"onion\", \"milk\", \"salt\", \"pepper\", \"bacon\", \"catsup\"]\n",
    "# [\"stew meat\", \"cabbage\", \"onion\", \"green bell peppers\", \"oil\", \"tomatoes\", \"garlic\", \"soy sauce\"]\n",
    "# [\"chicken broth\", \"water\", \"chicken\", \"onion\", \"vegetables\", \"garlic\", \"salt\", \"fresh cilantro\", \"potatoes\", \"vegetable oil\"]\n",
    "# [\"pork sparerib\", \"black bean sauce\", \"Chinese rice wine\", \"cornstarch\", \"ginger\", \"garlic\", \"ground black pepper\", \"cooking oil\", \"sesame oil\", \"sugar\", \"red chili pepper\"]\n",
    "# [\"shell pasta\", \"red pepper\", \"green onion\", \"seafood\", \"peas\", \"olive oil\", \"sesame oil\", \"rice vinegar\", \"lemon\", \"mayonnaise\"]"
   ]
  },
  {
   "cell_type": "code",
   "execution_count": null,
   "metadata": {},
   "outputs": [],
   "source": [
    "from langchain_community.document_loaders.csv_loader import CSVLoader"
   ]
  }
 ],
 "metadata": {
  "kernelspec": {
   "display_name": "MLOps_LLM_Zoomcamp",
   "language": "python",
   "name": "python3"
  },
  "language_info": {
   "name": "python",
   "version": "3.11.9"
  }
 },
 "nbformat": 4,
 "nbformat_minor": 2
}
