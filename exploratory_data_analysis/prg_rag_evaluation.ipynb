{
 "cells": [
  {
   "cell_type": "code",
   "execution_count": null,
   "metadata": {},
   "outputs": [],
   "source": [
    "# Ingredients to be used in 10 recipes\n",
    "\n",
    "# [\"bacon\", \"eggs\", \"buns\", \"tomatoes\", \"mayonnaise\"]\n",
    "# [\"bay scallops\", \"butter\", \"onions\", \"parsley\", \"lemons\", \"bread crumbs\"]\n",
    "# [\"rice\", \"chicken\", \"cream of mushroom soup\", \"cream of chicken soup\", \"onion soup\", \"water\"]\n",
    "# [\"coriander\", \"allspice\", \"cumin\", \"ground ginger\", \"turmeric\", \"cinnamon\", \"cayenne\", \"pepper\", \"salt\", \"lemon juice\", \"olive oil\", \"garlic\", \"chicken\", \"pita\", \"red onion\", \"parsley\", \"shredded red cabbage\", \"tahini\"]\n",
    "# [\"sour cream\", \"heavy cream\", \"baking powder\", \"kosher salt\", \"sugar\", \"ground black pepper\", \"flour\", \"butter\", \"salt\", \"cutter\"]\n",
    "# [\"hamburger\", \"egg\", \"bread crumbs\", \"onion\", \"milk\", \"salt\", \"pepper\", \"bacon\", \"catsup\"]\n",
    "# [\"stew meat\", \"cabbage\", \"onion\", \"green bell peppers\", \"oil\", \"tomatoes\", \"garlic\", \"soy sauce\"]\n",
    "# [\"chicken broth\", \"water\", \"chicken\", \"onion\", \"vegetables\", \"garlic\", \"salt\", \"fresh cilantro\", \"potatoes\", \"vegetable oil\"]\n",
    "# [\"pork sparerib\", \"black bean sauce\", \"Chinese rice wine\", \"cornstarch\", \"ginger\", \"garlic\", \"ground black pepper\", \"cooking oil\", \"sesame oil\", \"sugar\", \"red chili pepper\"]\n",
    "# [\"shell pasta\", \"red pepper\", \"green onion\", \"seafood\", \"peas\", \"olive oil\", \"sesame oil\", \"rice vinegar\", \"lemon\", \"mayonnaise\"]"
   ]
  },
  {
   "cell_type": "code",
   "execution_count": null,
   "metadata": {},
   "outputs": [],
   "source": [
    "# Importing the required libraries & modules\n",
    "from langchain_community.document_loaders.csv_loader import CSVLoader\n"
   ]
  },
  {
   "cell_type": "code",
   "execution_count": null,
   "metadata": {},
   "outputs": [],
   "source": [
    "import pyodbc\n",
    "server = 'rag_application_server'\n",
    "database_name = 'personalized_recipe_generator'\n",
    "user = 'root'\n",
    "password = 'root'\n",
    "connection_string = f'DRIVER={{SQL Server}};SERVER={server};DATABASE={database_name};UID={user};PWD={password}'\n",
    "conn = pyodbc.connect(connection_string)\n",
    "\n",
    "host=\"localhost\"\n",
    "port=\"3306\""
   ]
  },
  {
   "cell_type": "code",
   "execution_count": null,
   "metadata": {},
   "outputs": [],
   "source": [
    "import pandas as pd\n",
    "\n",
    "import os\n",
    "current_path = os.getcwd()\n",
    "print(current_path)\n",
    "\n",
    "os.chdir('../dataset/')\n",
    "path_base_dataset = os.getcwd()\n",
    "print(path_base_dataset)\n",
    "\n",
    "os.chdir('../exploratory_data_analysis/')\n",
    "path_base_notebook = os.getcwd()\n",
    "print(path_base_notebook)\n",
    "\n",
    "NUM_DATA_SAMPLES = 50000\n",
    "file_name = '/sampled_dataset_' + str(NUM_DATA_SAMPLES) + '.csv'\n",
    "sampled_data_file_path = path_base_dataset + file_name\n",
    "\n",
    "df = pd.read_csv(sampled_data_file_path)\n",
    "df.head()"
   ]
  },
  {
   "cell_type": "code",
   "execution_count": null,
   "metadata": {},
   "outputs": [],
   "source": [
    "df.to_sql(name='personalized_recipe_generator', con=conn, if_exists='replace', index=False)"
   ]
  },
  {
   "cell_type": "code",
   "execution_count": null,
   "metadata": {},
   "outputs": [],
   "source": [
    "from langchain_community.utilities import SQLDatabase\n",
    "from langchain_core.messages import AIMessage, HumanMessage\n",
    "\n",
    "def init_database(user: str, password: str, host: str, port: str, database: str) -> SQLDatabase:\n",
    "  db_uri = f\"mysql+mysqlconnector://{user}:{password}@{host}:{port}/{database}\"\n",
    "  return SQLDatabase.from_uri(db_uri)\n",
    "\n",
    "db = init_database(\n",
    "  user=\"root\",\n",
    "  password=\"root\",\n",
    "  host=\"localhost\",\n",
    "  port=\"3306\",\n",
    "  database=database_name\n",
    "  )"
   ]
  },
  {
   "cell_type": "code",
   "execution_count": null,
   "metadata": {},
   "outputs": [],
   "source": [
    "print(db.dialect)\n",
    "print(db.get_usable_table_names())"
   ]
  }
 ],
 "metadata": {
  "kernelspec": {
   "display_name": "MLOps_LLM_Zoomcamp",
   "language": "python",
   "name": "python3"
  },
  "language_info": {
   "name": "python",
   "version": "3.11.9"
  }
 },
 "nbformat": 4,
 "nbformat_minor": 2
}
