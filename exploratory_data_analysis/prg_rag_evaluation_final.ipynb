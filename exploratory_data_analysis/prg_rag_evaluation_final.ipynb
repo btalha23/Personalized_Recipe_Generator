{
 "cells": [
  {
   "cell_type": "code",
   "execution_count": null,
   "metadata": {},
   "outputs": [],
   "source": [
    "# Ingredients to be used in 10 recipes\n",
    "\n",
    "# [\"bacon\", \"eggs\", \"buns\", \"tomatoes\", \"mayonnaise\"]\n",
    "# [\"bay scallops\", \"butter\", \"onions\", \"parsley\", \"lemons\", \"bread crumbs\"]\n",
    "# [\"rice\", \"chicken\", \"cream of mushroom soup\", \"cream of chicken soup\", \"onion soup\", \"water\"]\n",
    "# [\"coriander\", \"allspice\", \"cumin\", \"ground ginger\", \"turmeric\", \"cinnamon\", \"cayenne\", \"pepper\", \"salt\", \"lemon juice\", \"olive oil\", \"garlic\", \"chicken\", \"pita\", \"red onion\", \"parsley\", \"shredded red cabbage\", \"tahini\"]\n",
    "# [\"sour cream\", \"heavy cream\", \"baking powder\", \"kosher salt\", \"sugar\", \"ground black pepper\", \"flour\", \"butter\", \"salt\", \"cutter\"]\n",
    "# [\"hamburger\", \"egg\", \"bread crumbs\", \"onion\", \"milk\", \"salt\", \"pepper\", \"bacon\", \"catsup\"]\n",
    "# [\"stew meat\", \"cabbage\", \"onion\", \"green bell peppers\", \"oil\", \"tomatoes\", \"garlic\", \"soy sauce\"]\n",
    "# [\"chicken broth\", \"water\", \"chicken\", \"onion\", \"vegetables\", \"garlic\", \"salt\", \"fresh cilantro\", \"potatoes\", \"vegetable oil\"]\n",
    "# [\"pork sparerib\", \"black bean sauce\", \"Chinese rice wine\", \"cornstarch\", \"ginger\", \"garlic\", \"ground black pepper\", \"cooking oil\", \"sesame oil\", \"sugar\", \"red chili pepper\"]\n",
    "# [\"shell pasta\", \"red pepper\", \"green onion\", \"seafood\", \"peas\", \"olive oil\", \"sesame oil\", \"rice vinegar\", \"lemon\", \"mayonnaise\"]"
   ]
  },
  {
   "cell_type": "code",
   "execution_count": 1,
   "metadata": {},
   "outputs": [],
   "source": [
    "import pandas as pd\n",
    "import os\n",
    "\n",
    "from langchain_community.utilities import SQLDatabase\n",
    "from sqlalchemy import create_engine\n",
    "import mysql.connector"
   ]
  },
  {
   "cell_type": "code",
   "execution_count": 2,
   "metadata": {},
   "outputs": [
    {
     "name": "stdout",
     "output_type": "stream",
     "text": [
      "c:\\Batool_Data (2024)\\Privat\\BT_Related to Durham College\\Semester #3\\github\\Personalized_Recipe_Generator\\exploratory_data_analysis\n",
      "c:\\Batool_Data (2024)\\Privat\\BT_Related to Durham College\\Semester #3\\github\\Personalized_Recipe_Generator\\dataset\n",
      "c:\\Batool_Data (2024)\\Privat\\BT_Related to Durham College\\Semester #3\\github\\Personalized_Recipe_Generator\\exploratory_data_analysis\n"
     ]
    }
   ],
   "source": [
    "\n",
    "current_path = os.getcwd()\n",
    "print(current_path)\n",
    "\n",
    "os.chdir('../dataset/')\n",
    "path_base_dataset = os.getcwd()\n",
    "print(path_base_dataset)\n",
    "\n",
    "os.chdir('../exploratory_data_analysis/')\n",
    "path_base_notebook = os.getcwd()\n",
    "print(path_base_notebook)\n",
    "\n",
    "NUM_DATA_SAMPLES = 50000\n",
    "file_name = '/sampled_dataset_' + str(NUM_DATA_SAMPLES) + '.csv'\n",
    "sampled_data_file_path = path_base_dataset + file_name\n"
   ]
  },
  {
   "cell_type": "code",
   "execution_count": 3,
   "metadata": {},
   "outputs": [
    {
     "data": {
      "text/html": [
       "<div>\n",
       "<style scoped>\n",
       "    .dataframe tbody tr th:only-of-type {\n",
       "        vertical-align: middle;\n",
       "    }\n",
       "\n",
       "    .dataframe tbody tr th {\n",
       "        vertical-align: top;\n",
       "    }\n",
       "\n",
       "    .dataframe thead th {\n",
       "        text-align: right;\n",
       "    }\n",
       "</style>\n",
       "<table border=\"1\" class=\"dataframe\">\n",
       "  <thead>\n",
       "    <tr style=\"text-align: right;\">\n",
       "      <th></th>\n",
       "      <th>Unnamed: 0</th>\n",
       "      <th>ID</th>\n",
       "      <th>name</th>\n",
       "      <th>ingredients</th>\n",
       "      <th>procedure</th>\n",
       "      <th>link</th>\n",
       "      <th>source</th>\n",
       "      <th>NER</th>\n",
       "    </tr>\n",
       "  </thead>\n",
       "  <tbody>\n",
       "    <tr>\n",
       "      <th>0</th>\n",
       "      <td>1254789</td>\n",
       "      <td>1254789</td>\n",
       "      <td>Bacon, Lettuce, Tomato And Fried Egg Sandwiches</td>\n",
       "      <td>[\"4 slices bacon, halved\", \"4 None eggs\", \"4 N...</td>\n",
       "      <td>[\"Lightly coat a nonstick frying pan and place...</td>\n",
       "      <td>recipes-plus.com/api/v2.0/recipes/37658</td>\n",
       "      <td>Gathered</td>\n",
       "      <td>[\"bacon\", \"eggs\", \"buns\", \"tomatoes\", \"mayonna...</td>\n",
       "    </tr>\n",
       "    <tr>\n",
       "      <th>1</th>\n",
       "      <td>2162678</td>\n",
       "      <td>2162678</td>\n",
       "      <td>Sauteed Bay Scallops Recipe</td>\n",
       "      <td>[\"2 pound bay scallops\", \"1/4 pound butter, me...</td>\n",
       "      <td>[\"Saute/fry onions and parsley in butter.\", \"R...</td>\n",
       "      <td>cookeatshare.com/recipes/sauteed-bay-scallops-...</td>\n",
       "      <td>Recipes1M</td>\n",
       "      <td>[\"bay scallops\", \"butter\", \"onions\", \"parsley\"...</td>\n",
       "    </tr>\n",
       "    <tr>\n",
       "      <th>2</th>\n",
       "      <td>832049</td>\n",
       "      <td>832049</td>\n",
       "      <td>No Fuss No Mess Chicken And Rice</td>\n",
       "      <td>[\"1 c. uncooked rice\", \"1 chicken, cut up\", \"1...</td>\n",
       "      <td>[\"Place rice in oblong pan.\", \"Place chicken o...</td>\n",
       "      <td>www.cookbooks.com/Recipe-Details.aspx?id=334186</td>\n",
       "      <td>Gathered</td>\n",
       "      <td>[\"rice\", \"chicken\", \"cream of mushroom soup\", ...</td>\n",
       "    </tr>\n",
       "    <tr>\n",
       "      <th>3</th>\n",
       "      <td>1396186</td>\n",
       "      <td>1396186</td>\n",
       "      <td>Baked Chicken Shawarma</td>\n",
       "      <td>[\"2 teaspoons coriander\", \"1 teaspoon allspice...</td>\n",
       "      <td>[\"In a large bowl combine coriander, allspice,...</td>\n",
       "      <td>food52.com/recipes/41562-baked-chicken-shawarma</td>\n",
       "      <td>Gathered</td>\n",
       "      <td>[\"coriander\", \"allspice\", \"cumin\", \"ground gin...</td>\n",
       "    </tr>\n",
       "    <tr>\n",
       "      <th>4</th>\n",
       "      <td>1322877</td>\n",
       "      <td>1322877</td>\n",
       "      <td>Salt-And-Pepper Biscuits</td>\n",
       "      <td>[\"3/4 cup sour cream\", \"4 tablespoons heavy cr...</td>\n",
       "      <td>[\"Preheat oven to 425\\u00b0F. Whisk sour cream...</td>\n",
       "      <td>www.epicurious.com/recipes/food/views/salt-and...</td>\n",
       "      <td>Gathered</td>\n",
       "      <td>[\"sour cream\", \"heavy cream\", \"baking powder\",...</td>\n",
       "    </tr>\n",
       "  </tbody>\n",
       "</table>\n",
       "</div>"
      ],
      "text/plain": [
       "   Unnamed: 0       ID                                             name  \\\n",
       "0     1254789  1254789  Bacon, Lettuce, Tomato And Fried Egg Sandwiches   \n",
       "1     2162678  2162678                      Sauteed Bay Scallops Recipe   \n",
       "2      832049   832049                 No Fuss No Mess Chicken And Rice   \n",
       "3     1396186  1396186                           Baked Chicken Shawarma   \n",
       "4     1322877  1322877                        Salt-And-Pepper Biscuits    \n",
       "\n",
       "                                         ingredients  \\\n",
       "0  [\"4 slices bacon, halved\", \"4 None eggs\", \"4 N...   \n",
       "1  [\"2 pound bay scallops\", \"1/4 pound butter, me...   \n",
       "2  [\"1 c. uncooked rice\", \"1 chicken, cut up\", \"1...   \n",
       "3  [\"2 teaspoons coriander\", \"1 teaspoon allspice...   \n",
       "4  [\"3/4 cup sour cream\", \"4 tablespoons heavy cr...   \n",
       "\n",
       "                                           procedure  \\\n",
       "0  [\"Lightly coat a nonstick frying pan and place...   \n",
       "1  [\"Saute/fry onions and parsley in butter.\", \"R...   \n",
       "2  [\"Place rice in oblong pan.\", \"Place chicken o...   \n",
       "3  [\"In a large bowl combine coriander, allspice,...   \n",
       "4  [\"Preheat oven to 425\\u00b0F. Whisk sour cream...   \n",
       "\n",
       "                                                link     source  \\\n",
       "0            recipes-plus.com/api/v2.0/recipes/37658   Gathered   \n",
       "1  cookeatshare.com/recipes/sauteed-bay-scallops-...  Recipes1M   \n",
       "2    www.cookbooks.com/Recipe-Details.aspx?id=334186   Gathered   \n",
       "3    food52.com/recipes/41562-baked-chicken-shawarma   Gathered   \n",
       "4  www.epicurious.com/recipes/food/views/salt-and...   Gathered   \n",
       "\n",
       "                                                 NER  \n",
       "0  [\"bacon\", \"eggs\", \"buns\", \"tomatoes\", \"mayonna...  \n",
       "1  [\"bay scallops\", \"butter\", \"onions\", \"parsley\"...  \n",
       "2  [\"rice\", \"chicken\", \"cream of mushroom soup\", ...  \n",
       "3  [\"coriander\", \"allspice\", \"cumin\", \"ground gin...  \n",
       "4  [\"sour cream\", \"heavy cream\", \"baking powder\",...  "
      ]
     },
     "execution_count": 3,
     "metadata": {},
     "output_type": "execute_result"
    }
   ],
   "source": [
    "df = pd.read_csv(sampled_data_file_path)\n",
    "df.head()"
   ]
  },
  {
   "cell_type": "code",
   "execution_count": 4,
   "metadata": {},
   "outputs": [],
   "source": [
    "# # Database connection details\n",
    "server = 'rag_application_server'\n",
    "prg_database_name = 'personalized_recipe_generator'\n",
    "user = 'root'\n",
    "password = 'root'\n",
    "host=\"localhost\"\n",
    "port=\"3306\""
   ]
  },
  {
   "cell_type": "code",
   "execution_count": 5,
   "metadata": {},
   "outputs": [
    {
     "name": "stdout",
     "output_type": "stream",
     "text": [
      "Database personalized_recipe_generator created successfully.\n",
      "Table recipe_knowledge_base populated successfully.\n"
     ]
    }
   ],
   "source": [
    "# Connect to MySQL (without specifying a database)\n",
    "connection = mysql.connector.connect(\n",
    "    host=host,\n",
    "    user=user,\n",
    "    password=password\n",
    ")\n",
    "\n",
    "cursor = connection.cursor()\n",
    "\n",
    "# Create a new database\n",
    "cursor.execute(f\"CREATE DATABASE IF NOT EXISTS {prg_database_name};\")\n",
    "print(f\"Database {prg_database_name} created successfully.\")\n",
    "\n",
    "# Commit changes and close connection\n",
    "connection.commit()\n",
    "cursor.close()\n",
    "connection.close()\n",
    "\n",
    "# Create a connection engine using SQLAlchemy\n",
    "db_uri = f\"mysql+mysqlconnector://{user}:{password}@{host}:{port}/{prg_database_name}\"\n",
    "engine = create_engine(db_uri)\n",
    "\n",
    "# Write the DataFrame to the MySQL database as a table\n",
    "table_name = 'recipe_knowledge_base'  # Name the table you want to create in the database\n",
    "df.to_sql(name=table_name, con=engine, if_exists='replace', index=False)\n",
    "\n",
    "print(f\"Table {table_name} populated successfully.\")\n",
    "\n",
    "# # Now connect to the newly created database using LangChain's SQLDatabase library\n",
    "# db_url = f\"mysql+mysqlconnector://{user}:{password}@{host}/{new_database_name}\"\n",
    "# db = SQLDatabase.from_uri(db_url)\n",
    "\n",
    "# # Example: Check tables in the new database (should be empty initially)\n",
    "# print(db.get_table_names())  # Outputs an empty list as the new database is empty\n"
   ]
  },
  {
   "cell_type": "code",
   "execution_count": 6,
   "metadata": {},
   "outputs": [],
   "source": [
    "def init_database(user: str, password: str, host: str, port: str, database: str) -> SQLDatabase:\n",
    "  db_uri = f\"mysql+mysqlconnector://{user}:{password}@{host}:{port}/{database}\"\n",
    "  return SQLDatabase.from_uri(db_uri)\n",
    "\n",
    "# # Now, you can interact with this table using LangChain's SQLDatabase\n",
    "db = init_database(\n",
    "  user=\"root\",\n",
    "  password=\"root\",\n",
    "  host=\"localhost\",\n",
    "  port=\"3306\",\n",
    "  database=prg_database_name\n",
    "  )"
   ]
  },
  {
   "cell_type": "code",
   "execution_count": 9,
   "metadata": {},
   "outputs": [
    {
     "name": "stdout",
     "output_type": "stream",
     "text": [
      "mysql\n",
      "['recipe_knowledge_base']\n"
     ]
    }
   ],
   "source": [
    "# Verify by printing the list of tables in the database\n",
    "print(db.dialect)\n",
    "print(db.get_table_names())  # This should list the newly created table\n"
   ]
  },
  {
   "cell_type": "code",
   "execution_count": 10,
   "metadata": {},
   "outputs": [
    {
     "data": {
      "text/plain": [
       "'[(1254789, 1254789, \\'Bacon, Lettuce, Tomato And Fried Egg Sandwiches\\', \\'[\"4 slices bacon, halved\", \"4 None eggs\", \"4 None hamburger buns, toasted\", \"4 None lettuce leaves\", \"2 None tomatoes, sliced\", \"None None mayonnaise or barbecue sauce\"]\\', \\'[\"Lightly coat a nonstick frying pan and place over high heat. Fry bacon for 3 mins, turning, or until browned. Transfer to a plate and keep warm.\", \"Reduce heat to medium-low. Fry eggs until cooked to your liking.\", \"Top bottom burger buns with lettuce, bacon, tomato and egg. Add sauce of your...\\', \\'recipes-plus.com/api/v2.0/recipes/37658\\', \\'Gathered\\', \\'[\"bacon\", \"eggs\", \"buns\", \"tomatoes\", \"mayonnaise\"]\\'), (2162678, 2162678, \\'Sauteed Bay Scallops Recipe\\', \\'[\"2 pound bay scallops\", \"1/4 pound butter, melted\", \"1 c. finely minced onions\", \"1/2 bunch parsley, finely minced\", \"Juice of 2 lemons\", \"1 c. bread crumbs\"]\\', \\'[\"Saute/fry onions and parsley in butter.\", \"Remove from heat.\", \"Pat scallops in pan till all sides are full coated with butter.\", \"Place in baking dish in one layer if possible.\", \"Sprinkle lightly with salt and pepper.\", \"Sprinkle with lemon juice, and then with crushed croutons or possibly...\\', \\'cookeatshare.com/recipes/sauteed-bay-scallops-52967\\', \\'Recipes1M\\', \\'[\"bay scallops\", \"butter\", \"onions\", \"parsley\", \"lemons\", \"bread crumbs\"]\\'), (832049, 832049, \\'No Fuss No Mess Chicken And Rice\\', \\'[\"1 c. uncooked rice\", \"1 chicken, cut up\", \"1 can cream of mushroom soup\", \"1 can cream of chicken soup\", \"1 pkg. Lipton dry onion soup mix\", \"2 c. hot water\"]\\', \\'[\"Place rice in oblong pan.\", \"Place chicken on top of rice.\", \"Mix soups and water; pour over top of chicken and rice.\", \"Bake uncovered 2 hours in 300\\\\\\\\u00b0 oven.\"]\\', \\'www.cookbooks.com/Recipe-Details.aspx?id=334186\\', \\'Gathered\\', \\'[\"rice\", \"chicken\", \"cream of mushroom soup\", \"cream of chicken soup\", \"onion soup\", \"water\"]\\'), (1396186, 1396186, \\'Baked Chicken Shawarma\\', \\'[\"2 teaspoons coriander\", \"1 teaspoon allspice\", \"1 teaspoon cumin\", \"1 teaspoon ground ginger\", \"1 teaspoon turmeric\", \"1/2 teaspoon cinnamon\", \"1/2 teaspoon cayenne\", \"1/2 teaspoon pepper\", \"1 teaspoon salt\", \"3 tablespoons lemon juice\", \"2 tablespoons olive oil, plus 1 tablespoon for crisping...\\', \\'[\"In a large bowl combine coriander, allspice, cinnamon, cumin, ginger, turmeric cayenne, pepper, salt, lemon juice, olive oil, and garlic. Add chicken and toss to coat. Place in a large zip-top bag and refrigerate for at least 1 hour and as long as overnight.\", \"Preheat oven to 425 F. Line a...\\', \\'food52.com/recipes/41562-baked-chicken-shawarma\\', \\'Gathered\\', \\'[\"coriander\", \"allspice\", \"cumin\", \"ground ginger\", \"turmeric\", \"cinnamon\", \"cayenne\", \"pepper\", \"salt\", \"lemon juice\", \"olive oil\", \"garlic\", \"chicken\", \"pita\", \"red onion\", \"parsley\", \"shredded red cabbage\", \"tahini\"]\\'), (1322877, 1322877, \\'Salt-And-Pepper Biscuits \\', \\'[\"3/4 cup sour cream\", \"4 tablespoons heavy cream, divided\", \"1 tablespoon baking powder\", \"1 teaspoon kosher salt\", \"1 teaspoon sugar\", \"1/2 teaspoon coarsely ground black pepper plus more\", \"2 cups all-purpose flour plus more for surface\", \"6 tablespoons (3/4 stick) chilled unsalted butter,...\\', \\'[\"Preheat oven to 425\\\\\\\\u00b0F. Whisk sour cream and 3 tablespoonss heavy cream in a small bowl.\", \"Pulse baking powder, kosher salt, sugar, 1/2 teaspoon pepper, and 2 cups flour in a food processor until combined; add butter and pulse until the texture of coarse meal with a few pea-size pieces of...\\', \\'www.epicurious.com/recipes/food/views/salt-and-pepper-biscuits-51198740\\', \\'Gathered\\', \\'[\"sour cream\", \"heavy cream\", \"baking powder\", \"kosher salt\", \"sugar\", \"ground black pepper\", \"flour\", \"butter\", \"salt\", \"cutter\"]\\'), (413822, 413822, \\'Meat Loaf\\', \\'[\"1 lb. hamburger\", \"1 egg\", \"1 c. bread crumbs\", \"1 onion, chopped\", \"1 c. milk\", \"1 tsp. salt\", \"1/4 tsp. pepper\", \"2 strips bacon\", \"1/2 c. catsup\"]\\', \\'[\"Combine all ingredients.\", \"Blend well.\", \"Mold into loaf and place in a low baking dish.\", \"Dress top of meat loaf with bacon strips and catsup.\", \"Bake at 350\\\\\\\\u00b0 for 1 hour.\"]\\', \\'www.cookbooks.com/Recipe-Details.aspx?id=783405\\', \\'Gathered\\', \\'[\"hamburger\", \"egg\", \"bread crumbs\", \"onion\", \"milk\", \"salt\", \"pepper\", \"bacon\", \"catsup\"]\\'), (513148, 513148, \\'Beef Quisado\\', \\'[\"3 c. stew meat (cooked in water until tender)\", \"1 medium cabbage, cut in small pieces\", \"1 large onion, diced\", \"2 medium green bell peppers\", \"4 Tbsp. oil\", \"1 can tomatoes, diced\", \"3 garlic cloves, crushed\", \"6 Tbsp. soy sauce\"]\\', \\'[\"Heat a deep frying pan and add oil.\", \"Put in garlic and stir. Add cabbage, onions and bell peppers. Saute a few minutes.\", \"Add shredded, cooked stew meat. Add can of tomatoes and 3/4 c. water and soy sauce. Cover and simmer for about 2 hours.\", \"Serve over cooked rice. The longer you cook,...\\', \\'www.cookbooks.com/Recipe-Details.aspx?id=23476\\', \\'Gathered\\', \\'[\"stew meat\", \"cabbage\", \"onion\", \"green bell peppers\", \"oil\", \"tomatoes\", \"garlic\", \"soy sauce\"]\\'), (2117175, 2117175, \"Omar\\'s Chicken Soup\", \\'[\"1 cup chicken broth\", \"4 cups water\", \"3 chicken drumsticks\", \"1 medium chopped onion\", \"1 cup frozen mixed vegetables\", \"2 chopped garlic cloves\", \"salt\", \"12 cup fresh cilantro (I use about 1/2 cup)\", \"5 small new potatoes\", \"1 tablespoon vegetable oil\"]\\', \\'[\"In a 5 qt pot add vegetable oil and chopped onion.\", \"Cook down until onion appears carmelized.\", \"Add water, chicken broth, pinch of salt and drumsticks.\", \"Bring to a boil.\", \"Lower heat, and simmer drumsticks for approximately 30 minutes.\", \"Add potatoes and simmer for another 30 minutes.\",...\\', \\'www.food.com/recipe/omars-chicken-soup-325490\\', \\'Recipes1M\\', \\'[\"chicken broth\", \"water\", \"chicken\", \"onion\", \"vegetables\", \"garlic\", \"salt\", \"fresh cilantro\", \"potatoes\", \"vegetable oil\"]\\'), (1330196, 1330196, \\'Chinese Steamed Black Bean Spareribs \\', \\'[\"1-1/2 lbs pork sparerib (rib tips)\", \"2 tablespoons black bean sauce\", \"1 tablespoon Chinese rice wine (or dry sherry)\", \"2 teaspoons cornstarch\", \"1/2 teaspoon grated ginger (on microplane grater)\", \"2 cloves garlic, minced\", \"1/4 teaspoon ground black pepper\", \"1 teaspoon cooking oil\", \"1...\\', \\'[\"Cut the spareribs crosswise into 1\\\\\\\\\" - 2\\\\\\\\\" sections. Combine the rest of the ingredients. Transfer spareribs and sauce into a shallow, heatproof dish that will fit inside your steamer (a pie plate works great.) Let marinate at room temperature for 30 minutes.\", \"\", \"Set spareribs in steamer....\\', \\'www.epicurious.com/recipes/member/views/chinese-steamed-black-bean-spareribs-1273692\\', \\'Gathered\\', \\'[\"pork sparerib\", \"black bean sauce\", \"Chinese rice wine\", \"cornstarch\", \"ginger\", \"garlic\", \"ground black pepper\", \"cooking oil\", \"sesame oil\", \"sugar\", \"red chili pepper\"]\\'), (1888200, 1888200, \\'Seafood Pasta Salad\\', \\'[\"3 cups uncooked shell pasta\", \"12 cup finely diced red pepper\", \"14 cup chopped green onion\", \"2 cups seafood (lobster, crab, shrimp)\", \"1 cup cooked frozen peas\", \"14 cup olive oil\", \"1 teaspoon sesame oil (optional)\", \"18 cup rice vinegar (or more to taste)\", \"1 lemon, juice of\", \"12 cup...\\', \\'[\"Cook pasta according to package - drain, rinse and set aside to cool.\", \"Mix together pepper, onions, seafood with the cooled pasta and cooled peas so the crisp vegetables remain crisp.\", \"Prepare the dressing - whisking all the ingredients together and toss evenly into salad.\", \"Set aside to...\\', \\'www.food.com/recipe/seafood-pasta-salad-243625\\', \\'Recipes1M\\', \\'[\"shell pasta\", \"red pepper\", \"green onion\", \"seafood\", \"peas\", \"olive oil\", \"sesame oil\", \"rice vinegar\", \"lemon\", \"mayonnaise\"]\\')]'"
      ]
     },
     "execution_count": 10,
     "metadata": {},
     "output_type": "execute_result"
    }
   ],
   "source": [
    "db.run(\"SELECT * FROM recipe_knowledge_base LIMIT 10;\")"
   ]
  },
  {
   "cell_type": "code",
   "execution_count": 11,
   "metadata": {},
   "outputs": [
    {
     "data": {
      "text/plain": [
       "'\\nCREATE TABLE recipe_knowledge_base (\\n\\t`Unnamed: 0` BIGINT, \\n\\t`ID` BIGINT, \\n\\tname TEXT, \\n\\tingredients TEXT, \\n\\t`procedure` TEXT, \\n\\tlink TEXT, \\n\\tsource TEXT, \\n\\t`NER` TEXT\\n)ENGINE=InnoDB DEFAULT CHARSET=utf8mb4 COLLATE utf8mb4_0900_ai_ci\\n\\n/*\\n3 rows from recipe_knowledge_base table:\\nUnnamed: 0\\tID\\tname\\tingredients\\tprocedure\\tlink\\tsource\\tNER\\n1254789\\t1254789\\tBacon, Lettuce, Tomato And Fried Egg Sandwiches\\t[\"4 slices bacon, halved\", \"4 None eggs\", \"4 None hamburger buns, toasted\", \"4 None lettuce leaves\",\\t[\"Lightly coat a nonstick frying pan and place over high heat. Fry bacon for 3 mins, turning, or unt\\trecipes-plus.com/api/v2.0/recipes/37658\\tGathered\\t[\"bacon\", \"eggs\", \"buns\", \"tomatoes\", \"mayonnaise\"]\\n2162678\\t2162678\\tSauteed Bay Scallops Recipe\\t[\"2 pound bay scallops\", \"1/4 pound butter, melted\", \"1 c. finely minced onions\", \"1/2 bunch parsley\\t[\"Saute/fry onions and parsley in butter.\", \"Remove from heat.\", \"Pat scallops in pan till all sides\\tcookeatshare.com/recipes/sauteed-bay-scallops-52967\\tRecipes1M\\t[\"bay scallops\", \"butter\", \"onions\", \"parsley\", \"lemons\", \"bread crumbs\"]\\n832049\\t832049\\tNo Fuss No Mess Chicken And Rice\\t[\"1 c. uncooked rice\", \"1 chicken, cut up\", \"1 can cream of mushroom soup\", \"1 can cream of chicken \\t[\"Place rice in oblong pan.\", \"Place chicken on top of rice.\", \"Mix soups and water; pour over top o\\twww.cookbooks.com/Recipe-Details.aspx?id=334186\\tGathered\\t[\"rice\", \"chicken\", \"cream of mushroom soup\", \"cream of chicken soup\", \"onion soup\", \"water\"]\\n*/'"
      ]
     },
     "execution_count": 11,
     "metadata": {},
     "output_type": "execute_result"
    }
   ],
   "source": [
    "db.get_table_info()"
   ]
  }
 ],
 "metadata": {
  "kernelspec": {
   "display_name": "MLOps_LLM_Zoomcamp",
   "language": "python",
   "name": "python3"
  },
  "language_info": {
   "codemirror_mode": {
    "name": "ipython",
    "version": 3
   },
   "file_extension": ".py",
   "mimetype": "text/x-python",
   "name": "python",
   "nbconvert_exporter": "python",
   "pygments_lexer": "ipython3",
   "version": "3.11.9"
  }
 },
 "nbformat": 4,
 "nbformat_minor": 2
}
